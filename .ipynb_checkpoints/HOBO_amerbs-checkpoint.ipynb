{
 "cells": [
  {
   "cell_type": "markdown",
   "id": "24c070bf-937f-4c14-a488-b77bab7a0e11",
   "metadata": {},
   "source": [
    "\n",
    "# ejemplo 1\n",
    "\n",
    "## ejemplo 1.1"
   ]
  },
  {
   "cell_type": "code",
   "execution_count": null,
   "id": "c96d7de8-5eb6-4e2a-bde9-e5fdc1d3e143",
   "metadata": {},
   "outputs": [],
   "source": [
    "{octave}"
   ]
  },
  {
   "cell_type": "code",
   "execution_count": null,
   "id": "c69c0eb2-43a1-42da-9a3d-3b249258e51d",
   "metadata": {},
   "outputs": [],
   "source": [
    "a=1"
   ]
  }
 ],
 "metadata": {
  "kernelspec": {
   "display_name": "Octave",
   "language": "octave",
   "name": "octave"
  },
  "language_info": {
   "file_extension": ".m",
   "help_links": [
    {
     "text": "GNU Octave",
     "url": "https://www.gnu.org/software/octave/support.html"
    },
    {
     "text": "Octave Kernel",
     "url": "https://github.com/Calysto/octave_kernel"
    },
    {
     "text": "MetaKernel Magics",
     "url": "https://metakernel.readthedocs.io/en/latest/source/README.html"
    }
   ],
   "mimetype": "text/x-octave",
   "name": "octave",
   "version": "8.2.0"
  }
 },
 "nbformat": 4,
 "nbformat_minor": 5
}
