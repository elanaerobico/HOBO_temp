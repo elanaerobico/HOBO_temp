{
 "cells": [
  {
   "cell_type": "code",
   "execution_count": 6,
   "id": "c050bc53-3840-487e-b1a2-1c5137f731fe",
   "metadata": {},
   "outputs": [
    {
     "name": "stdout",
     "output_type": "stream",
     "text": [
      "\u001b[?2004l\n",
      "\u001b[?2004h\u001b[?2004l\n",
      "\u001b[?2004h\u001b[?2004l\n",
      "\u001b[?2004h\u001b[?2004l\n",
      "warning: addpath: /Users/juan.faundez/Documents/MATLAB/raacampbell-shadedErrorBar-263537a/: No existe el archivo o el directorio\n",
      "\u001b[?2004h\u001b[?2004l\n",
      "error: /Users/juan.faundez/Documents/HOBOware//LosVilos/: No existe el archivo o el directorio\n",
      "\u001b[?2004h\u001b[?2004l\n",
      "myFiles =\n",
      "\n",
      "  0x1 struct array containing the fields:\n",
      "\n",
      "    name\n",
      "    folder\n",
      "    date\n",
      "    bytes\n",
      "    isdir\n",
      "    datenum\n",
      "    statinfo\n",
      "\n",
      "\u001b[?2004h"
     ]
    }
   ],
   "source": [
    "% Analisis HOBO sensor\n",
    "clear all\n",
    "close all\n",
    "addpath /Users/juan.faundez/Documents/MATLAB/raacampbell-shadedErrorBar-263537a/\n",
    "cd('/Users/juan.faundez/Documents/HOBOware//LosVilos/')\n",
    "myFiles = dir(['*.csv'])"
   ]
  },
  {
   "cell_type": "code",
   "execution_count": null,
   "id": "5c8f8445-7a18-472f-bb5b-cf21e9b1bb30",
   "metadata": {},
   "outputs": [],
   "source": []
  },
  {
   "cell_type": "code",
   "execution_count": null,
   "id": "c96d7de8-5eb6-4e2a-bde9-e5fdc1d3e143",
   "metadata": {},
   "outputs": [],
   "source": [
    "close all\n",
    "data = [];\n",
    "date = [];\n",
    "for i =1:length(myFiles)\n",
    "% cargo el archivo .csv\n",
    "file = readtable(myFiles(i).name);\n",
    "\n",
    "% determino si existe temp y en que posicion\n",
    "tdx = strfind(file.Properties.VariableNames,'Temp');\n",
    "for k =1:numel(tdx)\n",
    "    if ~isempty(tdx{k})\n",
    "         file.Properties.VariableNames([k])=[\"tem\"];\n",
    "         tem = (file.tem);\n",
    "         % convierto valores negativos en ceros\n",
    "         tem(isnan(tem))=0;\n",
    "         tem(tem<0)=0;\n",
    "         tem(tem>50)=0;\n",
    "         % estandarizo los valores missing\n",
    "         tem = standardizeMissing(tem,0);\n",
    "         % relleno los datos missing\n",
    "         tem = fillmissing(tem,\"linear\");\n",
    "    end    \n",
    "end\n",
    "% determino si existe oxigeno y en que posicion\n",
    "% odx = strfind(file.Properties.VariableNames,'Conc');\n",
    "% for k =1:numel(odx)\n",
    "%     if ~isempty(odx{k})\n",
    "%          file.Properties.VariableNames([k])=[\"o2\"];\n",
    "%          o2 = (file.o2);\n",
    "%     end\n",
    "% end\n",
    "% determino si existe oxigeno y en que posicion\n",
    "fdx = strfind(file.Properties.VariableNames,'Fecha');\n",
    "for k =1:numel(fdx)\n",
    "    if ~isempty(fdx{k})\n",
    "         file.Properties.VariableNames([k])=[\"fecha\"];\n",
    "         fecha = file.fecha;\n",
    "    end\n",
    "end\n",
    "count = (file.N__);\n",
    "\n",
    "% elimino datos iniciales y finales asociados a inmesion y emersion del\n",
    "% sensor\n",
    "out = 2;\n",
    "plot(fecha,tem,'-ok');hold on\n",
    "g=gradient(tem);\n",
    "idx = find(g==0);\n",
    "plot(fecha(idx(out):idx(end-out)),...\n",
    "    tem(idx(out):idx(end-out)),'or')\n",
    "tem = tem(idx(out):idx(end-out));\n",
    "% o2 = o2(idx(out):idx(end-out));\n",
    "count = count(idx(out):idx(end-out));\n",
    "fecha = fecha(idx(out):idx(end-out));\n",
    "% uno las matrices de distintas fechas\n",
    "date = [date;(fecha)];\n",
    "data = [data;count,tem];\n",
    "\n",
    "\n",
    "% convierto archivo en tabla asociada al tiempo\n",
    "% data2 = [data2,table2timetable(data)];\n",
    "\n",
    "% nombre las nuevas variables\n",
    "% data.Properties.VariableNames([1 2 3])=[\"count\",\"o2\",\"tem\"];\n",
    "% data.Properties.Dimension,mes([1])=[\"date\"];\n",
    "% Plot variables en el tiempo\n",
    "\n",
    "figure(1)\n",
    "% plot(data.date,data.tem,'-k');hold on\n",
    "% plot(data.date,data.tem,'-r')\n",
    "end\n",
    "data = timetable(date,data(:,1),data(:,2));\n",
    "data.Properties.VariableNames([1 2])=[\"count\",\"tem\"];"
   ]
  },
  {
   "cell_type": "code",
   "execution_count": null,
   "id": "c69c0eb2-43a1-42da-9a3d-3b249258e51d",
   "metadata": {},
   "outputs": [],
   "source": []
  }
 ],
 "metadata": {
  "kernelspec": {
   "display_name": "Octave",
   "language": "octave",
   "name": "octave"
  },
  "language_info": {
   "file_extension": ".m",
   "help_links": [
    {
     "text": "GNU Octave",
     "url": "https://www.gnu.org/software/octave/support.html"
    },
    {
     "text": "Octave Kernel",
     "url": "https://github.com/Calysto/octave_kernel"
    },
    {
     "text": "MetaKernel Magics",
     "url": "https://metakernel.readthedocs.io/en/latest/source/README.html"
    }
   ],
   "mimetype": "text/x-octave",
   "name": "octave",
   "version": "8.2.0"
  }
 },
 "nbformat": 4,
 "nbformat_minor": 5
}
