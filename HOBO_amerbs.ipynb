{
 "cells": [
  {
   "cell_type": "code",
   "execution_count": null,
   "id": "c050bc53-3840-487e-b1a2-1c5137f731fe",
   "metadata": {},
   "outputs": [],
   "source": [
    "% Analisis HOBO sensor\n",
    "clear all\n",
    "close all\n",
    "addpath ('~/Documentos/GITHUB/HOBO_temp/packages/raacampbell-shadedErrorBar-263537a/')\n",
    "cd('~/Documentos/GITHUB/HOBO_temp/data/')\n",
    "myFiles = dir(['*.csv'])"
   ]
  },
  {
   "cell_type": "code",
   "execution_count": null,
   "id": "5c8f8445-7a18-472f-bb5b-cf21e9b1bb30",
   "metadata": {},
   "outputs": [],
   "source": []
  },
  {
   "cell_type": "code",
   "execution_count": null,
   "id": "c96d7de8-5eb6-4e2a-bde9-e5fdc1d3e143",
   "metadata": {},
   "outputs": [],
   "source": [
    "close all\n",
    "data = [];\n",
    "date = [];\n",
    "for i =1:length(myFiles)\n",
    "% cargo el archivo .csv\n",
    "file = readtable(myFiles(i).name);\n",
    "\n",
    "% determino si existe temp y en que posicion\n",
    "tdx = strfind(file.Properties.VariableNames,'Temp');\n",
    "for k =1:numel(tdx)\n",
    "    if ~isempty(tdx{k})\n",
    "         file.Properties.VariableNames([k])=[\"tem\"];\n",
    "         tem = (file.tem);\n",
    "         % convierto valores negativos en ceros\n",
    "         tem(isnan(tem))=0;\n",
    "         tem(tem<0)=0;\n",
    "         tem(tem>50)=0;\n",
    "         % estandarizo los valores missing\n",
    "         tem = standardizeMissing(tem,0);\n",
    "         % relleno los datos missing\n",
    "         tem = fillmissing(tem,\"linear\");\n",
    "    end    \n",
    "end\n",
    "\n",
    "% determino si existe oxigeno y en que posicion\n",
    "fdx = strfind(file.Properties.VariableNames,'Fecha');\n",
    "for k =1:numel(fdx)\n",
    "    if ~isempty(fdx{k})\n",
    "         file.Properties.VariableNames([k])=[\"fecha\"];\n",
    "         fecha = file.fecha;\n",
    "    end\n",
    "end\n",
    "count = (file.N__);\n",
    "\n",
    "% elimino datos iniciales y finales asociados a inmesion y emersion del\n",
    "% sensor\n",
    "out = 2;\n",
    "plot(fecha,tem,'-ok');hold on\n",
    "g=gradient(tem);\n",
    "idx = find(g==0);\n",
    "plot(fecha(idx(out):idx(end-out)),...\n",
    "    tem(idx(out):idx(end-out)),'or')\n",
    "tem = tem(idx(out):idx(end-out));\n",
    "count = count(idx(out):idx(end-out));\n",
    "fecha = fecha(idx(out):idx(end-out));\n",
    "\n",
    "% uno las matrices de distintas fechas\n",
    "date = [date;(fecha)];\n",
    "data = [data;count,tem];\n",
    "\n",
    "% Plot variables en el tiempo\n",
    "figure(1)\n",
    "\n",
    "end\n",
    "data = timetable(date,data(:,1),data(:,2));\n",
    "data.Properties.VariableNames([1 2])=[\"count\",\"tem\"];"
   ]
  },
  {
   "cell_type": "code",
   "execution_count": null,
   "id": "a510a15d-0af8-48d7-8d4f-cd02921c5eab",
   "metadata": {},
   "outputs": [],
   "source": [
    "fid = fopen(myFiles(1).name, 'r');\n",
    "% Usa la función textscan para leer el archivo CSV\n",
    "data = textscan(fid,'Delimiter', ',');\n",
    "fclose(fid);"
   ]
  }
 ],
 "metadata": {
  "kernelspec": {
   "display_name": "Octave",
   "language": "octave",
   "name": "octave"
  },
  "language_info": {
   "file_extension": ".m",
   "help_links": [
    {
     "text": "GNU Octave",
     "url": "https://www.gnu.org/software/octave/support.html"
    },
    {
     "text": "Octave Kernel",
     "url": "https://github.com/Calysto/octave_kernel"
    },
    {
     "text": "MetaKernel Magics",
     "url": "https://metakernel.readthedocs.io/en/latest/source/README.html"
    }
   ],
   "mimetype": "text/x-octave",
   "name": "octave",
   "version": "8.2.0"
  }
 },
 "nbformat": 4,
 "nbformat_minor": 5
}
